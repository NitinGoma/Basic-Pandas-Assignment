{
 "cells": [
  {
   "cell_type": "markdown",
   "id": "5ec5835f-087e-4c01-b7dc-51f3918c24e7",
   "metadata": {},
   "source": [
    "Assignment"
   ]
  },
  {
   "cell_type": "raw",
   "id": "b0bc7b27-c3d9-4090-b6f0-31948e2f7b74",
   "metadata": {},
   "source": [
    "Q1. Create a Pandas Series that contains the following data: 4, 8, 15, 16, 23, and 42. Then, print the series."
   ]
  },
  {
   "cell_type": "code",
   "execution_count": 2,
   "id": "759a7c78-625e-4d05-8d71-6b063b59b3c3",
   "metadata": {},
   "outputs": [
    {
     "name": "stdout",
     "output_type": "stream",
     "text": [
      "0     4\n",
      "1     8\n",
      "2    15\n",
      "3    16\n",
      "4    23\n",
      "5    42\n",
      "dtype: int64\n"
     ]
    }
   ],
   "source": [
    "import pandas as pd\n",
    "\n",
    "Data = [4, 8, 15, 16, 23, 42]\n",
    "series = pd.Series(Data)\n",
    "print (series)"
   ]
  },
  {
   "cell_type": "markdown",
   "id": "81441bbb-5ec3-4cf0-969f-473738f14412",
   "metadata": {},
   "source": [
    "Q2. Create a variable of list type containing 10 elements in it, and apply pandas.Series function on the\n",
    "variable print it."
   ]
  },
  {
   "cell_type": "code",
   "execution_count": 3,
   "id": "acc86056-d4f0-400b-8c73-373157c41422",
   "metadata": {},
   "outputs": [
    {
     "data": {
      "text/plain": [
       "0     1\n",
       "1     2\n",
       "2     3\n",
       "3     4\n",
       "4     5\n",
       "5     6\n",
       "6     7\n",
       "7     8\n",
       "8     9\n",
       "9    10\n",
       "dtype: int64"
      ]
     },
     "execution_count": 3,
     "metadata": {},
     "output_type": "execute_result"
    }
   ],
   "source": [
    "my_list = [1, 2, 3, 4, 5, 6, 7, 8, 9, 10]\n",
    "\n",
    "my_series = pd.Series(my_list)\n",
    "my_series"
   ]
  },
  {
   "cell_type": "markdown",
   "id": "7894bcc7-27ad-458f-88d5-00cb56ee9cd6",
   "metadata": {},
   "source": [
    "Q3. Create a Pandas DataFrame.  Then, print the DataFrame."
   ]
  },
  {
   "cell_type": "code",
   "execution_count": 7,
   "id": "28d89e99-fdbd-49fd-9797-0ca2868c8a18",
   "metadata": {},
   "outputs": [
    {
     "data": {
      "text/html": [
       "<div>\n",
       "<style scoped>\n",
       "    .dataframe tbody tr th:only-of-type {\n",
       "        vertical-align: middle;\n",
       "    }\n",
       "\n",
       "    .dataframe tbody tr th {\n",
       "        vertical-align: top;\n",
       "    }\n",
       "\n",
       "    .dataframe thead th {\n",
       "        text-align: right;\n",
       "    }\n",
       "</style>\n",
       "<table border=\"1\" class=\"dataframe\">\n",
       "  <thead>\n",
       "    <tr style=\"text-align: right;\">\n",
       "      <th></th>\n",
       "      <th>Name</th>\n",
       "      <th>Age</th>\n",
       "      <th>Gender</th>\n",
       "    </tr>\n",
       "  </thead>\n",
       "  <tbody>\n",
       "    <tr>\n",
       "      <th>0</th>\n",
       "      <td>Alice</td>\n",
       "      <td>25</td>\n",
       "      <td>Female</td>\n",
       "    </tr>\n",
       "    <tr>\n",
       "      <th>1</th>\n",
       "      <td>Bob</td>\n",
       "      <td>30</td>\n",
       "      <td>male</td>\n",
       "    </tr>\n",
       "    <tr>\n",
       "      <th>2</th>\n",
       "      <td>Claire</td>\n",
       "      <td>27</td>\n",
       "      <td>Female</td>\n",
       "    </tr>\n",
       "  </tbody>\n",
       "</table>\n",
       "</div>"
      ],
      "text/plain": [
       "     Name Age  Gender\n",
       "0   Alice  25  Female\n",
       "1     Bob  30    male\n",
       "2  Claire  27  Female"
      ]
     },
     "execution_count": 7,
     "metadata": {},
     "output_type": "execute_result"
    }
   ],
   "source": [
    "data = {'Name' : ['Alice','Bob', 'Claire'], 'Age' : ['25', '30', '27'], 'Gender' : ['Female' , 'male', 'Female']}\n",
    "df = pd.DataFrame(data)\n",
    "df"
   ]
  },
  {
   "cell_type": "markdown",
   "id": "5c101282-dfc1-4733-8888-23b54eec7727",
   "metadata": {},
   "source": [
    "Q4. What is ‘DataFrame’ in pandas and how is it different from pandas.series? Explain with an example."
   ]
  },
  {
   "cell_type": "raw",
   "id": "b4768360-b22f-492c-8275-8acf4efeba4e",
   "metadata": {},
   "source": [
    "A DataFrame is a two-dimensional and tabular data structure with labeled axes (rows and columns) in pandas whereas A Series is a one-dimensional labeled array capable of holding any data type (integers, strings, floating-point numbers, Python objects, etc.)"
   ]
  },
  {
   "cell_type": "code",
   "execution_count": 8,
   "id": "b0ce3c91-be28-4c58-827f-226ccbf9aedb",
   "metadata": {},
   "outputs": [
    {
     "name": "stdout",
     "output_type": "stream",
     "text": [
      "0    1\n",
      "1    3\n",
      "2    5\n",
      "3    7\n",
      "4    9\n",
      "dtype: int64\n",
      "   numbers letters\n",
      "0        1       a\n",
      "1        2       b\n",
      "2        3       c\n",
      "3        4       d\n",
      "4        5       e\n"
     ]
    }
   ],
   "source": [
    "# Creating a Series\n",
    "s = pd.Series([1, 3, 5, 7, 9])\n",
    "\n",
    "# Creating a DataFrame\n",
    "df = pd.DataFrame({'numbers': [1, 2, 3, 4, 5], 'letters': ['a', 'b', 'c', 'd', 'e']})\n",
    "\n",
    "print(s)\n",
    "print(df)"
   ]
  },
  {
   "cell_type": "markdown",
   "id": "6501efb7-1b2e-4f16-8043-2a9abf6be03a",
   "metadata": {},
   "source": [
    "Q5. What are some common functions you can use to manipulate data in a Pandas DataFrame? Can\n",
    "you give an example of when you might use one of these functions?"
   ]
  },
  {
   "cell_type": "raw",
   "id": "34791fdd-095e-446b-a53e-23286f5c4860",
   "metadata": {},
   "source": [
    "There are several common functions that can be used to manipulate data in a Pandas DataFrame. Here are some of them:\n",
    "\n",
    "a) dropna(): This function is used to remove missing or null values from a DataFrame. It can be useful when you want to clean up your data before performing any analysis on it.\n",
    "\n",
    "b) fillna(): This function is used to fill missing or null values in a DataFrame with a specified value. It can be useful when you want to replace missing data with a value that makes sense for your analysis.\n",
    "\n",
    "c) groupby(): This function is used to group data in a DataFrame based on one or more columns. It can be useful when you want to perform aggregate calculations on subsets of your data.\n",
    "\n",
    "d) merge(): This function is used to combine two or more DataFrames into a single DataFrame. It can be useful when you have data split across multiple tables that you want to combine into a single table.\n",
    "\n",
    "e) pivot_table(): This function is used to create a pivot table from a DataFrame. It can be useful when you want to summarize your data by one or more columns.\n",
    "\n",
    "f) sort_values(): This function is used to sort the rows of a DataFrame by one or more columns. It can be useful when you want to order your data in a specific way.\n",
    "\n",
    "g) apply(): This function is used to apply a function to each row or column of a DataFrame. It can be useful when you want to perform a custom calculation on your data."
   ]
  },
  {
   "cell_type": "markdown",
   "id": "1d555091-328a-449a-9692-412c8f3ac391",
   "metadata": {},
   "source": [
    "Q6. Which of the following is mutable in nature Series, DataFrame, Panel?"
   ]
  },
  {
   "cell_type": "raw",
   "id": "a9f916de-61e1-41ee-b001-a3f64c6e97d9",
   "metadata": {},
   "source": [
    "DataFrame & Panel are mutable"
   ]
  },
  {
   "cell_type": "markdown",
   "id": "44d7e46a-45a4-4390-974a-f97dde382a97",
   "metadata": {},
   "source": [
    "Q7. Create a DataFrame using multiple Series. Explain with an example."
   ]
  },
  {
   "cell_type": "code",
   "execution_count": 9,
   "id": "cb104cb3-49ee-4b4d-8903-880587519d2b",
   "metadata": {},
   "outputs": [],
   "source": [
    "# Create the series objects\n",
    "s1 = pd.Series([1, 2, 3])\n",
    "s2 = pd.Series(['a', 'b', 'c'])\n",
    "s3 = pd.Series([4.0, 5.0, 6.0])"
   ]
  },
  {
   "cell_type": "code",
   "execution_count": 18,
   "id": "831e9a54-b5cb-4405-ba6b-4bed209032b2",
   "metadata": {},
   "outputs": [],
   "source": [
    "df = pd.concat([s1,s2,s3], axis=1)"
   ]
  },
  {
   "cell_type": "code",
   "execution_count": 19,
   "id": "c110d764-cd58-4e6a-9595-2585df66f7b3",
   "metadata": {},
   "outputs": [
    {
     "data": {
      "text/html": [
       "<div>\n",
       "<style scoped>\n",
       "    .dataframe tbody tr th:only-of-type {\n",
       "        vertical-align: middle;\n",
       "    }\n",
       "\n",
       "    .dataframe tbody tr th {\n",
       "        vertical-align: top;\n",
       "    }\n",
       "\n",
       "    .dataframe thead th {\n",
       "        text-align: right;\n",
       "    }\n",
       "</style>\n",
       "<table border=\"1\" class=\"dataframe\">\n",
       "  <thead>\n",
       "    <tr style=\"text-align: right;\">\n",
       "      <th></th>\n",
       "      <th>0</th>\n",
       "      <th>1</th>\n",
       "      <th>2</th>\n",
       "    </tr>\n",
       "  </thead>\n",
       "  <tbody>\n",
       "    <tr>\n",
       "      <th>0</th>\n",
       "      <td>1</td>\n",
       "      <td>a</td>\n",
       "      <td>4.0</td>\n",
       "    </tr>\n",
       "    <tr>\n",
       "      <th>1</th>\n",
       "      <td>2</td>\n",
       "      <td>b</td>\n",
       "      <td>5.0</td>\n",
       "    </tr>\n",
       "    <tr>\n",
       "      <th>2</th>\n",
       "      <td>3</td>\n",
       "      <td>c</td>\n",
       "      <td>6.0</td>\n",
       "    </tr>\n",
       "  </tbody>\n",
       "</table>\n",
       "</div>"
      ],
      "text/plain": [
       "   0  1    2\n",
       "0  1  a  4.0\n",
       "1  2  b  5.0\n",
       "2  3  c  6.0"
      ]
     },
     "execution_count": 19,
     "metadata": {},
     "output_type": "execute_result"
    }
   ],
   "source": [
    "df"
   ]
  },
  {
   "cell_type": "code",
   "execution_count": null,
   "id": "17cc3958-aa28-42ad-b121-f58d213c0943",
   "metadata": {},
   "outputs": [],
   "source": []
  },
  {
   "cell_type": "code",
   "execution_count": null,
   "id": "bf59caec-96f2-45d9-a3fc-c1635492731b",
   "metadata": {},
   "outputs": [],
   "source": []
  },
  {
   "cell_type": "code",
   "execution_count": null,
   "id": "f75b7bdb-a822-4c79-a495-7375dd34286b",
   "metadata": {},
   "outputs": [],
   "source": []
  }
 ],
 "metadata": {
  "kernelspec": {
   "display_name": "Python 3 (ipykernel)",
   "language": "python",
   "name": "python3"
  },
  "language_info": {
   "codemirror_mode": {
    "name": "ipython",
    "version": 3
   },
   "file_extension": ".py",
   "mimetype": "text/x-python",
   "name": "python",
   "nbconvert_exporter": "python",
   "pygments_lexer": "ipython3",
   "version": "3.10.8"
  }
 },
 "nbformat": 4,
 "nbformat_minor": 5
}
